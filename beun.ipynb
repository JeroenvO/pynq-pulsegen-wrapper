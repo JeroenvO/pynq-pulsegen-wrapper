{
 "cells": [
  {
   "cell_type": "code",
   "execution_count": 91,
   "metadata": {
    "collapsed": true
   },
   "outputs": [],
   "source": [
    "from importlib import reload"
   ]
  },
  {
   "cell_type": "code",
   "execution_count": 216,
   "metadata": {},
   "outputs": [
    {
     "name": "stdout",
     "output_type": "stream",
     "text": [
      "Running without PYNQ!\nRunning without PYNQ!\ninitialization complete!\n"
     ]
    }
   ],
   "source": [
    "import jvo_axiio_driver\n",
    "reload(jvo_axiio_driver)\n",
    "io = jvo_axiio_driver.JvoAxiioDriver()"
   ]
  },
  {
   "cell_type": "code",
   "execution_count": 220,
   "metadata": {},
   "outputs": [
    {
     "name": "stdout",
     "output_type": "stream",
     "text": [
      "0 6 2.9999997 2.999999875\n1 5 2.999999675 2.9999999\n2 4 2.99999965 2.999999925\n3 3 2.999999625 2.99999995\n4 2 2.9999996 2.999999975\n5 1 2.999999575 3.0\noutput 7 is disabled\noutput 8 is disabled\noutput 9 is disabled\noutput 10 is disabled\n374999947 12\n"
     ]
    },
    {
     "name": "stdout",
     "output_type": "stream",
     "text": [
      "[['Channel_1a', 374999962, 374999984],\n ['Channel_2a', 374999959, 374999988],\n ['Channel_3a', 374999956, 374999991],\n ['Channel_4a', 374999953, 374999994],\n ['Channel_5a', 374999950, 374999997],\n ['Channel_6a', 374999947, 375000000],\n ['Channel_7a', 750000000, 750000000],\n ['Channel_8a', 750000000, 750000000],\n ['Channel_9a', 750000000, 750000000],\n ['Channel_10a', 750000000, 750000000],\n ['Charge', 12, 374999935]]\n"
     ]
    }
   ],
   "source": [
    "io.marx_delta(50e-9, 100e-9, 3, 6)"
   ]
  },
  {
   "cell_type": "code",
   "execution_count": 219,
   "metadata": {},
   "outputs": [
    {
     "name": "stdout",
     "output_type": "stream",
     "text": [
      "output 1 is disabled\noutput 2 is disabled\noutput 4 is disabled\noutput 5 is disabled\noutput 6 is disabled\noutput 7 is disabled\noutput 8 is disabled\noutput 9 is disabled\noutput 10 is disabled\n1000000000 125000000\n"
     ]
    },
    {
     "name": "stdout",
     "output_type": "stream",
     "text": [
      "[['Channel_1a', 1375000000, 1375000000],\n ['Channel_2a', 1375000000, 1375000000],\n ['Channel_3a', 1000000000, 1250000000],\n ['Channel_4a', 1375000000, 1375000000],\n ['Channel_5a', 1375000000, 1375000000],\n ['Channel_6a', 1375000000, 1375000000],\n ['Channel_7a', 1375000000, 1375000000],\n ['Channel_8a', 1375000000, 1375000000],\n ['Channel_9a', 1375000000, 1375000000],\n ['Channel_10a', 1375000000, 1375000000],\n ['Charge', 125000000, 875000000]]\n"
     ]
    }
   ],
   "source": [
    "io.marx_one(2,1,10,3)"
   ]
  },
  {
   "cell_type": "code",
   "execution_count": null,
   "metadata": {},
   "outputs": [],
   "source": []
  }
 ],
 "metadata": {
  "kernelspec": {
   "display_name": "Python 2",
   "language": "python",
   "name": "python2"
  },
  "language_info": {
   "codemirror_mode": {
    "name": "ipython",
    "version": 2
   },
   "file_extension": ".py",
   "mimetype": "text/x-python",
   "name": "python",
   "nbconvert_exporter": "python",
   "pygments_lexer": "ipython2",
   "version": "2.7.6"
  }
 },
 "nbformat": 4,
 "nbformat_minor": 0
}
