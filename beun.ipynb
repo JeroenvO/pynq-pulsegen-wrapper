{
 "cells": [
  {
   "cell_type": "code",
   "execution_count": 91,
   "metadata": {
    "collapsed": true
   },
   "outputs": [],
   "source": [
    "from importlib import reload"
   ]
  },
  {
   "cell_type": "code",
   "execution_count": 213,
   "metadata": {},
   "outputs": [
    {
     "name": "stdout",
     "output_type": "stream",
     "text": [
      "Running without PYNQ!\nRunning without PYNQ!\ninitialization complete!\n"
     ]
    }
   ],
   "source": [
    "import jvo_axiio_driver\n",
    "reload(jvo_axiio_driver)\n",
    "io = jvo_axiio_driver.JvoAxiioDriver()"
   ]
  },
  {
   "cell_type": "code",
   "execution_count": 214,
   "metadata": {},
   "outputs": [
    {
     "name": "stdout",
     "output_type": "stream",
     "text": [
      "0 6 240.0 275.0\n1 5 235.0 280.0\n2 4 230.0 285.0\n3 3 225.0 290.0\n4 2 220.0 295.0\n5 1 215.0 300.0\noutput 7 is disabled\noutput 8 is disabled\noutput 9 is disabled\noutput 10 is disabled\n"
     ]
    },
    {
     "name": "stdout",
     "output_type": "stream",
     "text": [
      "26875000000 1250000000\n"
     ]
    },
    {
     "name": "stdout",
     "output_type": "stream",
     "text": [
      "[['Channel_1a', 30000000000, 34375000000],\n ['Channel_2a', 29375000000, 35000000000],\n ['Channel_3a', 28750000000, 35625000000],\n ['Channel_4a', 28125000000, 36250000000],\n ['Channel_5a', 27500000000, 36875000000],\n ['Channel_6a', 26875000000, 37500000000],\n ['Channel_7a', 75000000000, 75000000000],\n ['Channel_8a', 75000000000, 75000000000],\n ['Channel_9a', 75000000000, 75000000000],\n ['Channel_10a', 75000000000, 75000000000],\n ['Charge', 1250000000, 25625000000]]\n"
     ]
    }
   ],
   "source": [
    "io.marx_delta(10, 10, 300, 6)"
   ]
  },
  {
   "cell_type": "code",
   "execution_count": 193,
   "metadata": {},
   "outputs": [
    {
     "name": "stdout",
     "output_type": "stream",
     "text": [
      "output 1 is disabled\noutput 2 is disabled\noutput 4 is disabled\noutput 5 is disabled\noutput 6 is disabled\noutput 7 is disabled\noutput 8 is disabled\noutput 9 is disabled\noutput 10 is disabled\n1125000000 125000000\n"
     ]
    },
    {
     "name": "stdout",
     "output_type": "stream",
     "text": [
      "[['Channel_1a', 1375000000, 1375000000],\n ['Channel_2a', 1375000000, 1375000000],\n ['Channel_3a', 1125000000, 1250000000],\n ['Channel_4a', 1375000000, 1375000000],\n ['Channel_5a', 1375000000, 1375000000],\n ['Channel_6a', 1375000000, 1375000000],\n ['Channel_7a', 1375000000, 1375000000],\n ['Channel_8a', 1375000000, 1375000000],\n ['Channel_9a', 1375000000, 1375000000],\n ['Channel_10a', 1375000000, 1375000000],\n ['Charge', 125000000, 1000000000]]\n"
     ]
    }
   ],
   "source": [
    "io.marx_one(1,1,10,3)"
   ]
  },
  {
   "cell_type": "code",
   "execution_count": null,
   "metadata": {},
   "outputs": [],
   "source": []
  }
 ],
 "metadata": {
  "kernelspec": {
   "display_name": "Python 2",
   "language": "python",
   "name": "python2"
  },
  "language_info": {
   "codemirror_mode": {
    "name": "ipython",
    "version": 2
   },
   "file_extension": ".py",
   "mimetype": "text/x-python",
   "name": "python",
   "nbconvert_exporter": "python",
   "pygments_lexer": "ipython2",
   "version": "2.7.6"
  }
 },
 "nbformat": 4,
 "nbformat_minor": 0
}
