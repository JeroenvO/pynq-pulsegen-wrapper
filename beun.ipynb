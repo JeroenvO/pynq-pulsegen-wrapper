{
 "cells": [
  {
   "cell_type": "code",
   "execution_count": 1,
   "metadata": {
    "collapsed": true
   },
   "outputs": [],
   "source": [
    "from importlib import reload"
   ]
  },
  {
   "cell_type": "code",
   "execution_count": 59,
   "metadata": {},
   "outputs": [
    {
     "name": "stdout",
     "output_type": "stream",
     "text": [
      "Running without PYNQ!\nRunning without PYNQ!\ninitialization complete!\n"
     ]
    }
   ],
   "source": [
    "import jvo_axiio_driver\n",
    "reload(jvo_axiio_driver)\n",
    "io = jvo_axiio_driver.JvoAxiioDriver()"
   ]
  },
  {
   "cell_type": "code",
   "execution_count": 60,
   "metadata": {},
   "outputs": [
    {
     "name": "stdout",
     "output_type": "stream",
     "text": [
      "[[1125000000, 1250000000],\n [1125000000, 1250000000],\n [1125000000, 1250000000],\n [1125000000, 1250000000],\n [1125000000, 1250000000],\n [1125000000, 1250000000],\n [1125000000, 1250000000],\n [1125000000, 1250000000],\n [1125000000, 1250000000],\n [1125000000, 1250000000]]\n[[1125000000, 1250000000], [1125000000, 1250000000], [1125000000, 1250000000], [1125000000, 1250000000], [1125000000, 1250000000], [1125000000, 1250000000], [1125000000, 1250000000], [1125000000, 1250000000], [1125000000, 1250000000], [1125000000, 1250000000]]\n"
     ]
    }
   ],
   "source": [
    "io.marx_sync(1,1,10)"
   ]
  },
  {
   "cell_type": "code",
   "execution_count": 31,
   "metadata": {},
   "outputs": [],
   "source": [
    "from matplotlib import pyplot as plt\n",
    "plt.step([0,1,2,3,4,5],[0,0,1,0,0,0])\n",
    "plt.show()"
   ]
  },
  {
   "cell_type": "code",
   "execution_count": null,
   "metadata": {},
   "outputs": [],
   "source": []
  }
 ],
 "metadata": {
  "kernelspec": {
   "display_name": "Python 2",
   "language": "python",
   "name": "python2"
  },
  "language_info": {
   "codemirror_mode": {
    "name": "ipython",
    "version": 2
   },
   "file_extension": ".py",
   "mimetype": "text/x-python",
   "name": "python",
   "nbconvert_exporter": "python",
   "pygments_lexer": "ipython2",
   "version": "2.7.6"
  }
 },
 "nbformat": 4,
 "nbformat_minor": 0
}
